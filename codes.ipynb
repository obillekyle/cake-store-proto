{
 "cells": [
  {
   "cell_type": "code",
   "execution_count": null,
   "metadata": {},
   "outputs": [],
   "source": [
    "    let value = 5\n",
    "    let width = 0\n",
    "    if ( value.length > 6 )            width += 25\n",
    "    if (/[a-z]/i.test(value))          width += 25\n",
    "    if (/[0-9]/.test(value))           width += 25\n",
    "    if (/[!@#\\$%\\^&\\*]/.test(value))   width += 25\n",
    "    if ( value.length < 6 )            width -= 25"
   ]
  }
 ],
 "metadata": {
  "interpreter": {
   "hash": "31f2aee4e71d21fbe5cf8b01ff0e069b9275f58929596ceb00d14d90e3e16cd6"
  },
  "kernelspec": {
   "display_name": "Python 3.9.7 64-bit",
   "language": "python",
   "name": "python3"
  },
  "language_info": {
   "name": "python",
   "version": "3.9.7"
  },
  "orig_nbformat": 4
 },
 "nbformat": 4,
 "nbformat_minor": 2
}
